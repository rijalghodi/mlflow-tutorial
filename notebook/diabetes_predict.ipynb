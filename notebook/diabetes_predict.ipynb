{
 "cells": [
  {
   "cell_type": "code",
   "execution_count": 1,
   "id": "909bc397-d15c-427d-9ecf-142e81a9a7dd",
   "metadata": {},
   "outputs": [],
   "source": [
    "import mlflow\n",
    "\n",
    "from sklearn.model_selection import train_test_split\n",
    "from sklearn.datasets import load_diabetes\n"
   ]
  },
  {
   "cell_type": "code",
   "execution_count": 2,
   "id": "89658a66-4176-4b1c-b6ce-77ac1cb1de6d",
   "metadata": {},
   "outputs": [],
   "source": [
    "mlflow.set_tracking_uri('http://mlflow-web:5000')"
   ]
  },
  {
   "cell_type": "code",
   "execution_count": 7,
   "id": "4a8ebab3-e95c-4082-9dcc-b7f1de869df1",
   "metadata": {},
   "outputs": [
    {
     "name": "stderr",
     "output_type": "stream",
     "text": [
      "/opt/conda/lib/python3.11/site-packages/mlflow/store/artifact/utils/models.py:32: FutureWarning: ``mlflow.tracking.client.MlflowClient.get_latest_versions`` is deprecated since 2.9.0. Model registry stages will be removed in a future major release. To learn more about the deprecation of model registry stages, see our migration guide here: https://mlflow.org/docs/2.12.1/model-registry.html#migrating-from-stages\n",
      "  latest = client.get_latest_versions(name, None if stage is None else [stage])\n"
     ]
    },
    {
     "data": {
      "application/vnd.jupyter.widget-view+json": {
       "model_id": "99369291f9724edfba7a5dfab1ce70ae",
       "version_major": 2,
       "version_minor": 0
      },
      "text/plain": [
       "Downloading artifacts:   0%|          | 0/9 [00:00<?, ?it/s]"
      ]
     },
     "metadata": {},
     "output_type": "display_data"
    },
    {
     "name": "stdout",
     "output_type": "stream",
     "text": [
      "[103.65493966 102.40788299  83.96698179 141.98916694 203.26044088\n",
      " 112.5560594  100.2295779   97.38874295  91.1419193  172.00627067\n",
      " 231.77288671 165.37986349 256.40998365 105.4656635  100.39347248\n",
      "  97.65864528  78.38606887 208.39620768  91.45192527  97.38210276\n",
      "  90.75957003 159.55945974 151.69108364 210.20542549 143.17941478\n",
      " 129.91446212 122.21097359 170.61327785  94.70841518 128.26309918\n",
      " 131.77686163 169.35966241  85.08856908 136.40341632 129.03854186\n",
      " 189.31395562  92.48711109 104.67675758  97.79596814 156.7968117\n",
      " 165.65926882 241.06318088 151.5383664  221.13055018  86.15848274\n",
      " 204.66980437 230.11905364 212.30187265 238.17170856 111.18183669\n",
      "  95.93645002 140.47794008 166.49230064 164.49450503  96.71863475\n",
      " 111.70643852 103.41805297 233.10777936 108.52175781 150.41117841\n",
      " 264.34449916 149.12465313 131.94864909 224.84432852 177.21836119\n",
      "  84.91680892 165.79465339 118.49582473  96.43251779 148.41267345\n",
      " 228.60869974 240.14175849  85.0521563  177.13412486 234.94063502\n",
      " 143.18502994 105.92923564  80.96309245 237.06664869  93.32846436\n",
      " 246.35188614 112.09599845 211.08203728 111.04210387  87.7710095\n",
      "  85.11517083  97.60100401  87.99847024 113.39486916 147.02738506\n",
      " 253.54970019  80.30075983 168.62435934  89.50315677 223.24293227\n",
      " 203.44871216 118.56552629 129.31087134  92.7056103   99.49556132\n",
      " 203.30200623 153.53206722 140.14616755 161.12023211 204.75575098\n",
      " 113.72335493 159.83821956  99.31495811  86.17501716 167.43117383\n",
      " 169.00566631]\n"
     ]
    }
   ],
   "source": [
    "db = load_diabetes()\n",
    "X_train, X_test, y_train, y_test = train_test_split(db.data, db.target)\n",
    "\n",
    "model_name = \"Diabetes Model\"\n",
    "stage = \"Production\"\n",
    "model = mlflow.sklearn.load_model(model_uri=f\"models:/{model_name}/latest\")\n",
    "predictions = model.predict(X_test)\n",
    "print(predictions)"
   ]
  },
  {
   "cell_type": "code",
   "execution_count": null,
   "id": "d6091e29-3979-476f-9ea6-2116a2f2e994",
   "metadata": {},
   "outputs": [],
   "source": []
  }
 ],
 "metadata": {
  "kernelspec": {
   "display_name": "Python 3 (ipykernel)",
   "language": "python",
   "name": "python3"
  },
  "language_info": {
   "codemirror_mode": {
    "name": "ipython",
    "version": 3
   },
   "file_extension": ".py",
   "mimetype": "text/x-python",
   "name": "python",
   "nbconvert_exporter": "python",
   "pygments_lexer": "ipython3",
   "version": "3.11.6"
  }
 },
 "nbformat": 4,
 "nbformat_minor": 5
}
